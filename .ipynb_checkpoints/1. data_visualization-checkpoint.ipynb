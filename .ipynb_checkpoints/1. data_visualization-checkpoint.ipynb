{
 "cells": [
  {
   "cell_type": "markdown",
   "id": "62fbdbb7",
   "metadata": {},
   "source": [
    "# Data Visualizations"
   ]
  },
  {
   "cell_type": "markdown",
   "id": "f8011ad6",
   "metadata": {},
   "source": [
    "<a id=\"0\"></a>\n",
    "Table of contents\n",
    "- [Bar Charts](#1)\n",
    "  - [Bar charts by seaborn](#2)\n",
    "  - [Bar charts by matplotlib](#3)\n",
    "- [Absolute and Relative frequency](#4)\n",
    "  - [xticks and yticks functions](#5)\n",
    "  - [Additional variations](#6)\n",
    "- [Counting Missing Values](#7)\n",
    "- [Pie Charts](#8)\n",
    "  - [Donut Plots](#9)\n",
    "- [Histogram](#10)  "
   ]
  },
  {
   "cell_type": "code",
   "execution_count": 6,
   "id": "3447f465",
   "metadata": {},
   "outputs": [],
   "source": [
    "import numpy as np\n",
    "import pandas as pd\n",
    "import matplotlib.pyplot as plt\n",
    "import seaborn as sb\n",
    "\n",
    "%matplotlib inline"
   ]
  },
  {
   "cell_type": "markdown",
   "id": "10e36daa",
   "metadata": {},
   "source": [
    "<a id = \"1\"></a>\n",
    "## Bar Charts \n",
    "[table of contents](#0)"
   ]
  },
  {
   "cell_type": "markdown",
   "id": "e2807413",
   "metadata": {},
   "source": [
    "If you are interested in the distribution of a qualitative variable, your primary visualization of choice will probably be the bar chart. For nominal data, you might want to arrange the bars in order of frequency with the most common on the left. This makes it easy to see which category is the most common and how the rest of the categories compare. You should not inclided to do this with ordinal data. The inherent order of the levels will usually be a more important feature to convey. It is more important to know if the most common categories are lower or higher in the spectrum rather than just which label is the most frequent. One common variation that you might see for bar chart is the horizontal bar chart if you have a lot of categories or the category names are long."
   ]
  },
  {
   "cell_type": "code",
   "execution_count": 7,
   "id": "26100dcf",
   "metadata": {
    "scrolled": true
   },
   "outputs": [
    {
     "name": "stdout",
     "output_type": "stream",
     "text": [
      "(807, 14)\n"
     ]
    },
    {
     "data": {
      "text/html": [
       "<div>\n",
       "<style scoped>\n",
       "    .dataframe tbody tr th:only-of-type {\n",
       "        vertical-align: middle;\n",
       "    }\n",
       "\n",
       "    .dataframe tbody tr th {\n",
       "        vertical-align: top;\n",
       "    }\n",
       "\n",
       "    .dataframe thead th {\n",
       "        text-align: right;\n",
       "    }\n",
       "</style>\n",
       "<table border=\"1\" class=\"dataframe\">\n",
       "  <thead>\n",
       "    <tr style=\"text-align: right;\">\n",
       "      <th></th>\n",
       "      <th>id</th>\n",
       "      <th>species</th>\n",
       "      <th>generation_id</th>\n",
       "      <th>height</th>\n",
       "      <th>weight</th>\n",
       "      <th>base_experience</th>\n",
       "      <th>type_1</th>\n",
       "      <th>type_2</th>\n",
       "      <th>hp</th>\n",
       "      <th>attack</th>\n",
       "      <th>defense</th>\n",
       "      <th>speed</th>\n",
       "      <th>special-attack</th>\n",
       "      <th>special-defense</th>\n",
       "    </tr>\n",
       "  </thead>\n",
       "  <tbody>\n",
       "    <tr>\n",
       "      <th>0</th>\n",
       "      <td>1</td>\n",
       "      <td>bulbasaur</td>\n",
       "      <td>1</td>\n",
       "      <td>0.7</td>\n",
       "      <td>6.9</td>\n",
       "      <td>64</td>\n",
       "      <td>grass</td>\n",
       "      <td>poison</td>\n",
       "      <td>45</td>\n",
       "      <td>49</td>\n",
       "      <td>49</td>\n",
       "      <td>45</td>\n",
       "      <td>65</td>\n",
       "      <td>65</td>\n",
       "    </tr>\n",
       "    <tr>\n",
       "      <th>1</th>\n",
       "      <td>2</td>\n",
       "      <td>ivysaur</td>\n",
       "      <td>1</td>\n",
       "      <td>1.0</td>\n",
       "      <td>13.0</td>\n",
       "      <td>142</td>\n",
       "      <td>grass</td>\n",
       "      <td>poison</td>\n",
       "      <td>60</td>\n",
       "      <td>62</td>\n",
       "      <td>63</td>\n",
       "      <td>60</td>\n",
       "      <td>80</td>\n",
       "      <td>80</td>\n",
       "    </tr>\n",
       "    <tr>\n",
       "      <th>2</th>\n",
       "      <td>3</td>\n",
       "      <td>venusaur</td>\n",
       "      <td>1</td>\n",
       "      <td>2.0</td>\n",
       "      <td>100.0</td>\n",
       "      <td>236</td>\n",
       "      <td>grass</td>\n",
       "      <td>poison</td>\n",
       "      <td>80</td>\n",
       "      <td>82</td>\n",
       "      <td>83</td>\n",
       "      <td>80</td>\n",
       "      <td>100</td>\n",
       "      <td>100</td>\n",
       "    </tr>\n",
       "    <tr>\n",
       "      <th>3</th>\n",
       "      <td>4</td>\n",
       "      <td>charmander</td>\n",
       "      <td>1</td>\n",
       "      <td>0.6</td>\n",
       "      <td>8.5</td>\n",
       "      <td>62</td>\n",
       "      <td>fire</td>\n",
       "      <td>NaN</td>\n",
       "      <td>39</td>\n",
       "      <td>52</td>\n",
       "      <td>43</td>\n",
       "      <td>65</td>\n",
       "      <td>60</td>\n",
       "      <td>50</td>\n",
       "    </tr>\n",
       "    <tr>\n",
       "      <th>4</th>\n",
       "      <td>5</td>\n",
       "      <td>charmeleon</td>\n",
       "      <td>1</td>\n",
       "      <td>1.1</td>\n",
       "      <td>19.0</td>\n",
       "      <td>142</td>\n",
       "      <td>fire</td>\n",
       "      <td>NaN</td>\n",
       "      <td>58</td>\n",
       "      <td>64</td>\n",
       "      <td>58</td>\n",
       "      <td>80</td>\n",
       "      <td>80</td>\n",
       "      <td>65</td>\n",
       "    </tr>\n",
       "    <tr>\n",
       "      <th>5</th>\n",
       "      <td>6</td>\n",
       "      <td>charizard</td>\n",
       "      <td>1</td>\n",
       "      <td>1.7</td>\n",
       "      <td>90.5</td>\n",
       "      <td>240</td>\n",
       "      <td>fire</td>\n",
       "      <td>flying</td>\n",
       "      <td>78</td>\n",
       "      <td>84</td>\n",
       "      <td>78</td>\n",
       "      <td>100</td>\n",
       "      <td>109</td>\n",
       "      <td>85</td>\n",
       "    </tr>\n",
       "    <tr>\n",
       "      <th>6</th>\n",
       "      <td>7</td>\n",
       "      <td>squirtle</td>\n",
       "      <td>1</td>\n",
       "      <td>0.5</td>\n",
       "      <td>9.0</td>\n",
       "      <td>63</td>\n",
       "      <td>water</td>\n",
       "      <td>NaN</td>\n",
       "      <td>44</td>\n",
       "      <td>48</td>\n",
       "      <td>65</td>\n",
       "      <td>43</td>\n",
       "      <td>50</td>\n",
       "      <td>64</td>\n",
       "    </tr>\n",
       "    <tr>\n",
       "      <th>7</th>\n",
       "      <td>8</td>\n",
       "      <td>wartortle</td>\n",
       "      <td>1</td>\n",
       "      <td>1.0</td>\n",
       "      <td>22.5</td>\n",
       "      <td>142</td>\n",
       "      <td>water</td>\n",
       "      <td>NaN</td>\n",
       "      <td>59</td>\n",
       "      <td>63</td>\n",
       "      <td>80</td>\n",
       "      <td>58</td>\n",
       "      <td>65</td>\n",
       "      <td>80</td>\n",
       "    </tr>\n",
       "    <tr>\n",
       "      <th>8</th>\n",
       "      <td>9</td>\n",
       "      <td>blastoise</td>\n",
       "      <td>1</td>\n",
       "      <td>1.6</td>\n",
       "      <td>85.5</td>\n",
       "      <td>239</td>\n",
       "      <td>water</td>\n",
       "      <td>NaN</td>\n",
       "      <td>79</td>\n",
       "      <td>83</td>\n",
       "      <td>100</td>\n",
       "      <td>78</td>\n",
       "      <td>85</td>\n",
       "      <td>105</td>\n",
       "    </tr>\n",
       "    <tr>\n",
       "      <th>9</th>\n",
       "      <td>10</td>\n",
       "      <td>caterpie</td>\n",
       "      <td>1</td>\n",
       "      <td>0.3</td>\n",
       "      <td>2.9</td>\n",
       "      <td>39</td>\n",
       "      <td>bug</td>\n",
       "      <td>NaN</td>\n",
       "      <td>45</td>\n",
       "      <td>30</td>\n",
       "      <td>35</td>\n",
       "      <td>45</td>\n",
       "      <td>20</td>\n",
       "      <td>20</td>\n",
       "    </tr>\n",
       "  </tbody>\n",
       "</table>\n",
       "</div>"
      ],
      "text/plain": [
       "   id     species  generation_id  height  weight  base_experience type_1  \\\n",
       "0   1   bulbasaur              1     0.7     6.9               64  grass   \n",
       "1   2     ivysaur              1     1.0    13.0              142  grass   \n",
       "2   3    venusaur              1     2.0   100.0              236  grass   \n",
       "3   4  charmander              1     0.6     8.5               62   fire   \n",
       "4   5  charmeleon              1     1.1    19.0              142   fire   \n",
       "5   6   charizard              1     1.7    90.5              240   fire   \n",
       "6   7    squirtle              1     0.5     9.0               63  water   \n",
       "7   8   wartortle              1     1.0    22.5              142  water   \n",
       "8   9   blastoise              1     1.6    85.5              239  water   \n",
       "9  10    caterpie              1     0.3     2.9               39    bug   \n",
       "\n",
       "   type_2  hp  attack  defense  speed  special-attack  special-defense  \n",
       "0  poison  45      49       49     45              65               65  \n",
       "1  poison  60      62       63     60              80               80  \n",
       "2  poison  80      82       83     80             100              100  \n",
       "3     NaN  39      52       43     65              60               50  \n",
       "4     NaN  58      64       58     80              80               65  \n",
       "5  flying  78      84       78    100             109               85  \n",
       "6     NaN  44      48       65     43              50               64  \n",
       "7     NaN  59      63       80     58              65               80  \n",
       "8     NaN  79      83      100     78              85              105  \n",
       "9     NaN  45      30       35     45              20               20  "
      ]
     },
     "execution_count": 7,
     "metadata": {},
     "output_type": "execute_result"
    }
   ],
   "source": [
    "# load the dataset\n",
    "pokemon = pd.read_csv('pokemon.csv')\n",
    "print(pokemon.shape)\n",
    "pokemon.head(10)"
   ]
  },
  {
   "cell_type": "markdown",
   "id": "88f9bf79",
   "metadata": {},
   "source": [
    "<a id=\"2\"></a>\n",
    "### Bar Chart by Seaborn\n",
    "[table of contents](#0)"
   ]
  },
  {
   "cell_type": "markdown",
   "id": "1c250848",
   "metadata": {},
   "source": [
    "Syntax:\n",
    "```\n",
    "seaborn.countplot(*, x=None, y=None, data=None, order=None, orient=None, color=None)\n",
    "```"
   ]
  },
  {
   "cell_type": "code",
   "execution_count": 5,
   "id": "42233315",
   "metadata": {
    "scrolled": true
   },
   "outputs": [
    {
     "data": {
      "image/png": "[encoded data removed]",
      "text/plain": [
       "<Figure size 432x288 with 1 Axes>"
      ]
     },
     "metadata": {
      "needs_background": "light"
     },
     "output_type": "display_data"
    }
   ],
   "source": [
    "# make a default bar chart by generation_id\n",
    "sb.countplot(data=pokemon, x='generation_id');"
   ]
  },
  {
   "cell_type": "markdown",
   "id": "2e106596",
   "metadata": {},
   "source": [
    "The default color setting is distracting and not necessary. We don't have a good reason right now to associate each generation with a different color. It's better to start by plotting everything in one color to avoid being distracted. We would like to pick a different color palette.\n",
    "\n",
    "sb.color_palette(palette=None, n_colors=None, desat=None, as_cmap=False)\n",
    "\n",
    "Return: a list of RGB tuples or\n",
    "class:`matplotlib.colors.Colormap`\n"
   ]
  },
  {
   "cell_type": "code",
   "execution_count": 3,
   "id": "87e40d61",
   "metadata": {},
   "outputs": [
    {
     "data": {
      "text/html": [
       "<svg  width=\"550\" height=\"55\"><rect x=\"0\" y=\"0\" width=\"55\" height=\"55\" style=\"fill:#1f77b4;stroke-width:2;stroke:rgb(255,255,255)\"/><rect x=\"55\" y=\"0\" width=\"55\" height=\"55\" style=\"fill:#ff7f0e;stroke-width:2;stroke:rgb(255,255,255)\"/><rect x=\"110\" y=\"0\" width=\"55\" height=\"55\" style=\"fill:#2ca02c;stroke-width:2;stroke:rgb(255,255,255)\"/><rect x=\"165\" y=\"0\" width=\"55\" height=\"55\" style=\"fill:#d62728;stroke-width:2;stroke:rgb(255,255,255)\"/><rect x=\"220\" y=\"0\" width=\"55\" height=\"55\" style=\"fill:#9467bd;stroke-width:2;stroke:rgb(255,255,255)\"/><rect x=\"275\" y=\"0\" width=\"55\" height=\"55\" style=\"fill:#8c564b;stroke-width:2;stroke:rgb(255,255,255)\"/><rect x=\"330\" y=\"0\" width=\"55\" height=\"55\" style=\"fill:#e377c2;stroke-width:2;stroke:rgb(255,255,255)\"/><rect x=\"385\" y=\"0\" width=\"55\" height=\"55\" style=\"fill:#7f7f7f;stroke-width:2;stroke:rgb(255,255,255)\"/><rect x=\"440\" y=\"0\" width=\"55\" height=\"55\" style=\"fill:#bcbd22;stroke-width:2;stroke:rgb(255,255,255)\"/><rect x=\"495\" y=\"0\" width=\"55\" height=\"55\" style=\"fill:#17becf;stroke-width:2;stroke:rgb(255,255,255)\"/></svg>"
      ],
      "text/plain": [
       "[(0.12156862745098039, 0.4666666666666667, 0.7058823529411765),\n",
       " (1.0, 0.4980392156862745, 0.054901960784313725),\n",
       " (0.17254901960784313, 0.6274509803921569, 0.17254901960784313),\n",
       " (0.8392156862745098, 0.15294117647058825, 0.1568627450980392),\n",
       " (0.5803921568627451, 0.403921568627451, 0.7411764705882353),\n",
       " (0.5490196078431373, 0.33725490196078434, 0.29411764705882354),\n",
       " (0.8901960784313725, 0.4666666666666667, 0.7607843137254902),\n",
       " (0.4980392156862745, 0.4980392156862745, 0.4980392156862745),\n",
       " (0.7372549019607844, 0.7411764705882353, 0.13333333333333333),\n",
       " (0.09019607843137255, 0.7450980392156863, 0.8117647058823529)]"
      ]
     },
     "execution_count": 3,
     "metadata": {},
     "output_type": "execute_result"
    }
   ],
   "source": [
    "# use seaborn color_palette function to get current default palette (since no parameters are specified)\n",
    "sb.color_palette()"
   ]
  },
  {
   "cell_type": "code",
   "execution_count": 18,
   "id": "ea1364ef",
   "metadata": {},
   "outputs": [],
   "source": [
    "# pick a blue color palette\n",
    "base_color = sb.color_palette()[0]"
   ]
  },
  {
   "cell_type": "code",
   "execution_count": 11,
   "id": "8a6ee24f",
   "metadata": {
    "scrolled": true
   },
   "outputs": [
    {
     "data": {
      "image/png": "[encoded data removed]",
      "text/plain": [
       "<Figure size 432x288 with 1 Axes>"
      ]
     },
     "metadata": {
      "needs_background": "light"
     },
     "output_type": "display_data"
    }
   ],
   "source": [
    "# set the base color, now much cleaner\n",
    "sb.countplot(data=pokemon, x='generation_id', color=base_color);"
   ]
  },
  {
   "cell_type": "markdown",
   "id": "c42c1084",
   "metadata": {},
   "source": [
    "Sort the number of pokemon species done by order parameter"
   ]
  },
  {
   "cell_type": "code",
   "execution_count": 12,
   "id": "9bb35e64",
   "metadata": {},
   "outputs": [
    {
     "data": {
      "image/png": "[encoded data removed]",
      "text/plain": [
       "<Figure size 432x288 with 1 Axes>"
      ]
     },
     "metadata": {
      "needs_background": "light"
     },
     "output_type": "display_data"
    }
   ],
   "source": [
    "# hard-coded version\n",
    "sb.countplot(data=pokemon, x='generation_id', color=base_color, \n",
    "             order=[5, 1, 3, 4, 2, 7]);"
   ]
  },
  {
   "cell_type": "code",
   "execution_count": 13,
   "id": "2bf3c218",
   "metadata": {
    "scrolled": true
   },
   "outputs": [
    {
     "data": {
      "image/png": "[encoded data removed]",
      "text/plain": [
       "<Figure size 432x288 with 1 Axes>"
      ]
     },
     "metadata": {
      "needs_background": "light"
     },
     "output_type": "display_data"
    }
   ],
   "source": [
    "# programmatic version (better approach)\n",
    "# value_counts() counts the frequency of each unique value in the Series and \n",
    "# sort them in descending order\n",
    "gen_order = pokemon.generation_id.value_counts().index  # get the index \n",
    "sb.countplot(data=pokemon, x='generation_id', color=base_color, order=gen_order);"
   ]
  },
  {
   "cell_type": "markdown",
   "id": "61ba0478",
   "metadata": {},
   "source": [
    "Let's look at another categorical variable."
   ]
  },
  {
   "cell_type": "code",
   "execution_count": 14,
   "id": "b13d63ce",
   "metadata": {
    "scrolled": true
   },
   "outputs": [
    {
     "data": {
      "image/png": "[encoded data removed]",
      "text/plain": [
       "<Figure size 432x288 with 1 Axes>"
      ]
     },
     "metadata": {
      "needs_background": "light"
     },
     "output_type": "display_data"
    }
   ],
   "source": [
    "# make a default bar chart by type_1\n",
    "# overlapping x labels\n",
    "sb.countplot(data=pokemon, x='type_1', color=base_color);"
   ]
  },
  {
   "cell_type": "markdown",
   "id": "b2c311a6",
   "metadata": {},
   "source": [
    " To get around of it, we can ..."
   ]
  },
  {
   "cell_type": "code",
   "execution_count": null,
   "id": "cbfbe11e",
   "metadata": {},
   "outputs": [],
   "source": [
    "# 1. rotate the x labels\n",
    "sb.countplot(data=pokemon, x='type_1', color=base_color);\n",
    "plt.xticks(rotation=90);"
   ]
  },
  {
   "cell_type": "code",
   "execution_count": 20,
   "id": "e366fe60",
   "metadata": {},
   "outputs": [
    {
     "data": {
      "image/png": "[encoded data removed]",
      "text/plain": [
       "<Figure size 432x288 with 1 Axes>"
      ]
     },
     "metadata": {
      "needs_background": "light"
     },
     "output_type": "display_data"
    }
   ],
   "source": [
    "# 2. create a horizontal bar chart\n",
    "# in seaborn, this is as simple as changing the x parameter into a y\n",
    "type_order = pokemon.type_1.value_counts().index\n",
    "sb.countplot(data=pokemon, y='type_1', color=base_color, order=type_order);\n",
    "# plt.axis('auto');"
   ]
  },
  {
   "cell_type": "markdown",
   "id": "767148ff",
   "metadata": {},
   "source": [
    "While we could sort the levels by frequency like above, we usually care about whether the most frequent values are at high levels, low levels, etc. For ordinal-type data, we probably want to sort the bars in order of the variables. The best thing for us to do in this case is to convert the column into an ordered categorical data type.\n",
    "\n",
    "> Additional Variation - Refer to the [`CategoricalDtype`](https://pandas.pydata.org/pandas-docs/version/0.23.4/generated/pandas.api.types.CategoricalDtype.html) to convert the column into an ordered categorical data type. By default, pandas reads in string data as object types, and will plot the bars in the order in which the unique values were seen. By converting the data into an ordered type, the order of categories becomes innate to the feature, and we won't need to specify an `\"order\"` parameter each time it's required in a plot.\n",
    "\n",
    "Should you find that you need to sort an ordered categorical type in a different order, you can always temporarily override the data type by setting the \"order\" parameter as above."
   ]
  },
  {
   "cell_type": "markdown",
   "id": "86c4f6ad",
   "metadata": {},
   "source": [
    "<a id=\"3\"></a>\n",
    "### Bar Chart by Matplotlib\n",
    "[table of contents](#0)"
   ]
  },
  {
   "cell_type": "markdown",
   "id": "5436aaf6",
   "metadata": {},
   "source": [
    "You can even create a similar bar chart using the Matplotlib, instead of Seaborn. We will use the [`matplotlib.pyplot.bar()`](https://matplotlib.org/3.1.1/api/_as_gen/matplotlib.pyplot.bar.html)  function to plot the chart. The syntax is:\n",
    "\n",
    "> matplotlib.pyplot.bar(x, y, width=0.8, bottom=None, *, align='center', data=None)\n",
    "\n",
    "Refer to the documentation for the details of optional arguments. In the example below, we will use `Series.value_counts()`  to extract a Series from the given DataFrame object."
   ]
  },
  {
   "cell_type": "code",
   "execution_count": 25,
   "id": "4df7134d",
   "metadata": {
    "scrolled": false
   },
   "outputs": [
    {
     "data": {
      "image/png": "[encoded data removed]",
      "text/plain": [
       "<Figure size 432x288 with 1 Axes>"
      ]
     },
     "metadata": {
      "needs_background": "light"
     },
     "output_type": "display_data"
    }
   ],
   "source": [
    "# return the Series having unique values\n",
    "x = pokemon.generation_id.unique()\n",
    "\n",
    "# return the Series having frequency count of each unique value\n",
    "y = pokemon.generation_id.value_counts(sort=False)  # we don't want the counts to be sorted\n",
    "\n",
    "# plot\n",
    "plt.bar(x, y)\n",
    "\n",
    "# Labeling the axes\n",
    "plt.xlabel('generation_id')\n",
    "plt.ylabel('count')\n",
    "\n",
    "# Dsiplay the plot\n",
    "plt.show()"
   ]
  },
  {
   "cell_type": "markdown",
   "id": "769c6096",
   "metadata": {},
   "source": [
    "<a id=\"4\"> </a>\n",
    "### Absolute vs Relative Frequency\n",
    "[table of contents](#0)"
   ]
  },
  {
   "cell_type": "markdown",
   "id": "d4fc29e2",
   "metadata": {},
   "source": [
    "Performed some data wrangling to obtain a data frome with both first and second types in a single column \"type\". "
   ]
  },
  {
   "cell_type": "code",
   "execution_count": 8,
   "id": "7e38598a",
   "metadata": {
    "scrolled": true
   },
   "outputs": [],
   "source": [
    "# take part of and reshape the pokemon dataframe\n",
    "pkmn_types = pokemon.melt(id_vars=['id', 'species'],\n",
    "                          value_vars=['type_1', 'type_2'],\n",
    "                          var_name='type_level',\n",
    "                          value_name='type')"
   ]
  },
  {
   "cell_type": "code",
   "execution_count": 9,
   "id": "4ccc4d17",
   "metadata": {
    "scrolled": true
   },
   "outputs": [
    {
     "data": {
      "text/html": [
       "<div>\n",
       "<style scoped>\n",
       "    .dataframe tbody tr th:only-of-type {\n",
       "        vertical-align: middle;\n",
       "    }\n",
       "\n",
       "    .dataframe tbody tr th {\n",
       "        vertical-align: top;\n",
       "    }\n",
       "\n",
       "    .dataframe thead th {\n",
       "        text-align: right;\n",
       "    }\n",
       "</style>\n",
       "<table border=\"1\" class=\"dataframe\">\n",
       "  <thead>\n",
       "    <tr style=\"text-align: right;\">\n",
       "      <th></th>\n",
       "      <th>id</th>\n",
       "      <th>species</th>\n",
       "      <th>type_level</th>\n",
       "      <th>type</th>\n",
       "    </tr>\n",
       "  </thead>\n",
       "  <tbody>\n",
       "    <tr>\n",
       "      <th>0</th>\n",
       "      <td>1</td>\n",
       "      <td>bulbasaur</td>\n",
       "      <td>type_1</td>\n",
       "      <td>grass</td>\n",
       "    </tr>\n",
       "    <tr>\n",
       "      <th>1</th>\n",
       "      <td>2</td>\n",
       "      <td>ivysaur</td>\n",
       "      <td>type_1</td>\n",
       "      <td>grass</td>\n",
       "    </tr>\n",
       "    <tr>\n",
       "      <th>2</th>\n",
       "      <td>3</td>\n",
       "      <td>venusaur</td>\n",
       "      <td>type_1</td>\n",
       "      <td>grass</td>\n",
       "    </tr>\n",
       "    <tr>\n",
       "      <th>3</th>\n",
       "      <td>4</td>\n",
       "      <td>charmander</td>\n",
       "      <td>type_1</td>\n",
       "      <td>fire</td>\n",
       "    </tr>\n",
       "    <tr>\n",
       "      <th>4</th>\n",
       "      <td>5</td>\n",
       "      <td>charmeleon</td>\n",
       "      <td>type_1</td>\n",
       "      <td>fire</td>\n",
       "    </tr>\n",
       "    <tr>\n",
       "      <th>5</th>\n",
       "      <td>6</td>\n",
       "      <td>charizard</td>\n",
       "      <td>type_1</td>\n",
       "      <td>fire</td>\n",
       "    </tr>\n",
       "    <tr>\n",
       "      <th>6</th>\n",
       "      <td>7</td>\n",
       "      <td>squirtle</td>\n",
       "      <td>type_1</td>\n",
       "      <td>water</td>\n",
       "    </tr>\n",
       "    <tr>\n",
       "      <th>7</th>\n",
       "      <td>8</td>\n",
       "      <td>wartortle</td>\n",
       "      <td>type_1</td>\n",
       "      <td>water</td>\n",
       "    </tr>\n",
       "    <tr>\n",
       "      <th>8</th>\n",
       "      <td>9</td>\n",
       "      <td>blastoise</td>\n",
       "      <td>type_1</td>\n",
       "      <td>water</td>\n",
       "    </tr>\n",
       "    <tr>\n",
       "      <th>9</th>\n",
       "      <td>10</td>\n",
       "      <td>caterpie</td>\n",
       "      <td>type_1</td>\n",
       "      <td>bug</td>\n",
       "    </tr>\n",
       "  </tbody>\n",
       "</table>\n",
       "</div>"
      ],
      "text/plain": [
       "   id     species type_level   type\n",
       "0   1   bulbasaur     type_1  grass\n",
       "1   2     ivysaur     type_1  grass\n",
       "2   3    venusaur     type_1  grass\n",
       "3   4  charmander     type_1   fire\n",
       "4   5  charmeleon     type_1   fire\n",
       "5   6   charizard     type_1   fire\n",
       "6   7    squirtle     type_1  water\n",
       "7   8   wartortle     type_1  water\n",
       "8   9   blastoise     type_1  water\n",
       "9  10    caterpie     type_1    bug"
      ]
     },
     "execution_count": 9,
     "metadata": {},
     "output_type": "execute_result"
    }
   ],
   "source": [
    "pkmn_types.head(10)"
   ]
  },
  {
   "cell_type": "markdown",
   "id": "76d113cf",
   "metadata": {},
   "source": [
    "I also created some variables to get the types in order of frequency. "
   ]
  },
  {
   "cell_type": "code",
   "execution_count": 10,
   "id": "d45701c3",
   "metadata": {},
   "outputs": [],
   "source": [
    "# Count the frequency of unique values in the `type` column of pkmn_types dataframe. \n",
    "# by default, returns the decreasing order of the frequency\n",
    "type_counts = pkmn_types.type.value_counts()\n",
    "\n",
    "# Get the unique values of the `type` column, \n",
    "# in the decreasing order of the frequency.\n",
    "type_order = type_counts.index"
   ]
  },
  {
   "cell_type": "code",
   "execution_count": 80,
   "id": "5653606f",
   "metadata": {
    "scrolled": true
   },
   "outputs": [
    {
     "data": {
      "text/plain": [
       "water       131\n",
       "normal      109\n",
       "flying       98\n",
       "grass        97\n",
       "psychic      82\n",
       "bug          77\n",
       "poison       66\n",
       "ground       64\n",
       "fire         64\n",
       "rock         60\n",
       "fighting     54\n",
       "electric     48\n",
       "steel        47\n",
       "fairy        47\n",
       "dark         46\n",
       "dragon       45\n",
       "ghost        43\n",
       "ice          34\n",
       "Name: type, dtype: int64"
      ]
     },
     "execution_count": 80,
     "metadata": {},
     "output_type": "execute_result"
    }
   ],
   "source": [
    "# show the type counts\n",
    "type_counts"
   ]
  },
  {
   "cell_type": "code",
   "execution_count": 51,
   "id": "42c1edfe",
   "metadata": {},
   "outputs": [
    {
     "data": {
      "text/plain": [
       "(18,)"
      ]
     },
     "execution_count": 51,
     "metadata": {},
     "output_type": "execute_result"
    }
   ],
   "source": [
    "type_counts.shape"
   ]
  },
  {
   "cell_type": "code",
   "execution_count": 81,
   "id": "2d372a33",
   "metadata": {},
   "outputs": [
    {
     "data": {
      "text/plain": [
       "Index(['water', 'normal', 'flying', 'grass', 'psychic', 'bug', 'poison',\n",
       "       'ground', 'fire', 'rock', 'fighting', 'electric', 'steel', 'fairy',\n",
       "       'dark', 'dragon', 'ghost', 'ice'],\n",
       "      dtype='object')"
      ]
     },
     "execution_count": 81,
     "metadata": {},
     "output_type": "execute_result"
    }
   ],
   "source": [
    "type_order"
   ]
  },
  {
   "cell_type": "code",
   "execution_count": 19,
   "id": "6d65d2f5",
   "metadata": {
    "scrolled": true
   },
   "outputs": [
    {
     "data": {
      "image/png": "[encoded data removed]",
      "text/plain": [
       "<Figure size 432x288 with 1 Axes>"
      ]
     },
     "metadata": {
      "needs_background": "light"
     },
     "output_type": "display_data"
    }
   ],
   "source": [
    "# make a horizontal bar chart with absolute counts\n",
    "# fig, ax = plt.subplots(figsize=(8, 10))\n",
    "sb.countplot(data=pkmn_types, y='type', color=base_color, order=type_order);\n",
    "plt.axis('tight');"
   ]
  },
  {
   "cell_type": "markdown",
   "id": "fd33fbc5",
   "metadata": {},
   "source": [
    "One method of plotting the data in terms of relative frequency on a bar chart is to just relabel the count's axis in terms of proportions. The underlying data will be the same, it will simply be the scale of the axis ticks that will be changed.\n",
    "\n",
    "One way of doing this is to use Matplotlib to change the tick marks from labeling absolute counts to relative counts."
   ]
  },
  {
   "cell_type": "code",
   "execution_count": 14,
   "id": "cee174e9",
   "metadata": {},
   "outputs": [
    {
     "name": "stdout",
     "output_type": "stream",
     "text": [
      "0.1623296158612144\n"
     ]
    }
   ],
   "source": [
    "# get the total number of pokemons\n",
    "n_pokemon = pokemon.shape[0]\n",
    "\n",
    "# return the highest frequency in the `type` column\n",
    "max_type_count = type_counts[0]\n",
    "\n",
    "# return the maximum proportion, or in other words, \n",
    "# compute the length of the longest bar in terms of the proportion\n",
    "max_prop = max_type_count / n_pokemon\n",
    "print(max_prop)"
   ]
  },
  {
   "cell_type": "code",
   "execution_count": 15,
   "id": "9f695cbb",
   "metadata": {
    "scrolled": true
   },
   "outputs": [
    {
     "data": {
      "text/plain": [
       "array([0.  , 0.02, 0.04, 0.06, 0.08, 0.1 , 0.12, 0.14, 0.16])"
      ]
     },
     "execution_count": 15,
     "metadata": {},
     "output_type": "execute_result"
    }
   ],
   "source": [
    "# Use numpy.arange() function to produce a set of evenly spaced \n",
    "# proportioned values between 0 and max_prop, with a step size 2%\n",
    "tick_props = np.arange(0, max_prop, 0.02)\n",
    "tick_props"
   ]
  },
  {
   "cell_type": "markdown",
   "id": "e6665890",
   "metadata": {},
   "source": [
    "I am also using a list comprehension to create an additional variable, tick_names, to apply to the tick labels. These string will show the proportions with a consistent two decimal places."
   ]
  },
  {
   "cell_type": "code",
   "execution_count": 16,
   "id": "9b178760",
   "metadata": {},
   "outputs": [
    {
     "data": {
      "text/plain": [
       "['0.00', '0.02', '0.04', '0.06', '0.08', '0.10', '0.12', '0.14', '0.16']"
      ]
     },
     "execution_count": 16,
     "metadata": {},
     "output_type": "execute_result"
    }
   ],
   "source": [
    "# create a list of String values that can be used as tick labels.\n",
    "tick_names = ['{:0.2f}'.format(v) for v in tick_props]\n",
    "tick_names"
   ]
  },
  {
   "cell_type": "markdown",
   "id": "9969262d",
   "metadata": {},
   "source": [
    "To change the tick locations and labels, we use Matplotlib xticks function."
   ]
  },
  {
   "cell_type": "markdown",
   "id": "94c309ba",
   "metadata": {},
   "source": [
    "<a id=\"5\"></a>\n",
    "#### The Matplotlib's xticks and yticks functions\n",
    "\n",
    "The first argument takes the tick locations: in this case, since the counts are still an absolute value. we need to multiply `tick_props` by the number of Pokemon to get their position correct. The second argument takes the tick names: in this case, the tick proportions formatted as strings to two decimal places. \n",
    "\n",
    "We need to use both arguments here since the positions and their values are different. And we use the xlabel function to change the x-axis label from the defaul \"count\" to more appropriate \"proportion\".\n",
    "\n",
    "[table of contents](#0)"
   ]
  },
  {
   "cell_type": "code",
   "execution_count": 25,
   "id": "cc8f286b",
   "metadata": {
    "scrolled": true
   },
   "outputs": [
    {
     "data": {
      "image/png": "[encoded data removed]",
      "text/plain": [
       "<Figure size 360x288 with 1 Axes>"
      ]
     },
     "metadata": {
      "needs_background": "light"
     },
     "output_type": "display_data"
    }
   ],
   "source": [
    "# make the charts with new x-tick labels\n",
    "fig, ax = plt.subplots(figsize=(5, 4))\n",
    "sb.countplot(data=pkmn_types, y='type', color=base_color, \n",
    "             order=type_order, ax=ax);\n",
    "\n",
    "# Change the tick locations and labels\n",
    "plt.xticks(ticks=tick_props * n_pokemon, labels=tick_names)\n",
    "plt.xlabel('proportion');\n",
    "# plt.axis('auto');"
   ]
  },
  {
   "cell_type": "markdown",
   "id": "51034f40",
   "metadata": {},
   "source": [
    "<a id=\"6\"></a>\n",
    "#### Additional Variations\n",
    "[table of contents](#0)"
   ]
  },
  {
   "cell_type": "markdown",
   "id": "ea7b57f6",
   "metadata": {},
   "source": [
    "Rather than plotting the data on a relative frequency scale, you might use text annotations to label the frequencies on bars instead. This is where the flexibility of Matplotlib can shine. This requires writing a loop over the tick locations and labels and adding one text element for each bar."
   ]
  },
  {
   "cell_type": "code",
   "execution_count": 29,
   "id": "25ce6da9",
   "metadata": {
    "scrolled": true
   },
   "outputs": [
    {
     "data": {
      "image/png": "[encoded data removed]",
      "text/plain": [
       "<Figure size 504x360 with 1 Axes>"
      ]
     },
     "metadata": {
      "needs_background": "light"
     },
     "output_type": "display_data"
    }
   ],
   "source": [
    "# print the text (proportion) on the bars of a horizontal plot\n",
    "\n",
    "base_color = sb.color_palette()[0]\n",
    "type_order = pkmn_types.type.value_counts().index\n",
    "\n",
    "fig, ax = plt.subplots(figsize=(7, 5))\n",
    "\n",
    "sb.countplot(data=pkmn_types, y='type', color=base_color, \n",
    "             order=type_order, ax=ax);\n",
    "\n",
    "\n",
    "\n",
    "# Logic to print the proportion text on the bars\n",
    "n_pokemon = pokemon.shape[0]\n",
    "for i in range (type_counts.shape[0]):\n",
    "    \n",
    "    # Remember the type_counts contains the frequency of \n",
    "    # unique values in the type column in decreasing order\n",
    "    count = type_counts[i]\n",
    "    \n",
    "    # Convert count into a percentage, and then into string\n",
    "    pct_string = '{:0.1f}%'.format(100*count/n_pokemon)\n",
    "    \n",
    "    # Print the string value on the bar\n",
    "    plt.text(count+1, i, pct_string, va='center') #va: vertical alignment\n",
    "    \n",
    "# change the figure size in inches\n",
    "# plt.rcParams['figure.figsize'] = 10, 12\n",
    "# plt.axis('auto')"
   ]
  },
  {
   "cell_type": "markdown",
   "id": "f18d4d6d",
   "metadata": {},
   "source": [
    "Actually, there are two ways to plot this."
   ]
  },
  {
   "cell_type": "code",
   "execution_count": 33,
   "id": "ac00fe06",
   "metadata": {},
   "outputs": [
    {
     "data": {
      "image/png": "[encoded data removed]",
      "text/plain": [
       "<Figure size 576x288 with 1 Axes>"
      ]
     },
     "metadata": {
      "needs_background": "light"
     },
     "output_type": "display_data"
    }
   ],
   "source": [
    "# Print the text (proportion) below the bars of a Vertical plot\n",
    "fig, ax = plt.subplots(figsize=(8,4))\n",
    "\n",
    "sb.countplot(data=pkmn_types, x='type', color=base_color, \n",
    "             order=type_order, ax=ax);\n",
    "\n",
    "# Recalculating the type_counts just to have clarity\n",
    "type_counts = pkmn_types['type'].value_counts()\n",
    "\n",
    "# get the current tick locations and labels\n",
    "locs, labels = plt.xticks(rotation=90) \n",
    "\n",
    "# loop through each pair of locations and labels\n",
    "for loc, label in zip(locs, labels):\n",
    "\n",
    "    # get the text property for the label to get the correct count\n",
    "    count = type_counts[label.get_text()]\n",
    "    pct_string = '{:0.1f}%'.format(100*count/n_pokemon)\n",
    "\n",
    "    # print the annotation just below the top of the bar\n",
    "    plt.text(loc, count+2, pct_string, ha='center', color='black')\n",
    "\n",
    "# Specify the figure size in inches, for both X, and Y axes\n",
    "# plt.rcParams['figure.figsize'] = 12, 8\n"
   ]
  },
  {
   "cell_type": "code",
   "execution_count": 36,
   "id": "cb19a986",
   "metadata": {},
   "outputs": [
    {
     "data": {
      "image/png": "[encoded data removed]",
      "text/plain": [
       "<Figure size 576x288 with 1 Axes>"
      ]
     },
     "metadata": {
      "needs_background": "light"
     },
     "output_type": "display_data"
    }
   ],
   "source": [
    "# Print the text (proportion) below the bars of a Vertical plot\n",
    "fig, ax = plt.subplots(figsize=(8,4))\n",
    "\n",
    "sb.countplot(data=pkmn_types, x='type', color=base_color, \n",
    "             order=type_order, ax=ax);\n",
    "plt.xticks(rotation=90) \n",
    "\n",
    "# Recalculating the type_counts just to have clarity\n",
    "type_counts = pkmn_types['type'].value_counts()\n",
    "\n",
    "for i in range(type_counts.shape[0]):\n",
    "\n",
    "    count = type_counts[i]\n",
    "    pct_string = '{:0.1f}%'.format(100*count/n_pokemon)    \n",
    "    \n",
    "    plt.text(i, count+2, pct_string, ha='center', color='black')\n",
    "                                   # ha: horizontal alignment\n",
    "\n",
    "# Specify the figure size in inches, for both X, and Y axes\n",
    "# plt.rcParams['figure.figsize'] = 12, 8"
   ]
  },
  {
   "cell_type": "markdown",
   "id": "07889c98",
   "metadata": {},
   "source": [
    "<a id=\"7\"></a>\n",
    "## Counting Missing values\n",
    "[table of contents](#0)"
   ]
  },
  {
   "cell_type": "markdown",
   "id": "83a3570a",
   "metadata": {},
   "source": [
    "If you have a large dataframe, and it contains a few missing values (None or a numpy.NaN), then you can find the count of such missing value across the given label. For this purpose, you can use either of the following two analogous functions :\n",
    "\n",
    "1. `pandas.DataFrame.isna()`\n",
    "2. `pandas.DataFrame.isnull()`\n",
    "\n",
    "The functions above are alias of each other and detect missing values by returning the same sized object as that of the calling dataframe, made up of boolean True/False."
   ]
  },
  {
   "cell_type": "code",
   "execution_count": 37,
   "id": "6cb1dcb9",
   "metadata": {},
   "outputs": [
    {
     "data": {
      "text/html": [
       "<div>\n",
       "<style scoped>\n",
       "    .dataframe tbody tr th:only-of-type {\n",
       "        vertical-align: middle;\n",
       "    }\n",
       "\n",
       "    .dataframe tbody tr th {\n",
       "        vertical-align: top;\n",
       "    }\n",
       "\n",
       "    .dataframe thead th {\n",
       "        text-align: right;\n",
       "    }\n",
       "</style>\n",
       "<table border=\"1\" class=\"dataframe\">\n",
       "  <thead>\n",
       "    <tr style=\"text-align: right;\">\n",
       "      <th></th>\n",
       "      <th>Store</th>\n",
       "      <th>Date</th>\n",
       "      <th>Temperature</th>\n",
       "      <th>Fuel_Price</th>\n",
       "      <th>MarkDown1</th>\n",
       "      <th>MarkDown2</th>\n",
       "      <th>MarkDown3</th>\n",
       "      <th>MarkDown4</th>\n",
       "      <th>MarkDown5</th>\n",
       "      <th>CPI</th>\n",
       "      <th>Unemployment</th>\n",
       "      <th>IsHoliday</th>\n",
       "    </tr>\n",
       "  </thead>\n",
       "  <tbody>\n",
       "    <tr>\n",
       "      <th>0</th>\n",
       "      <td>1</td>\n",
       "      <td>05/02/2010</td>\n",
       "      <td>42.31</td>\n",
       "      <td>2.572</td>\n",
       "      <td>NaN</td>\n",
       "      <td>NaN</td>\n",
       "      <td>NaN</td>\n",
       "      <td>NaN</td>\n",
       "      <td>NaN</td>\n",
       "      <td>211.096358</td>\n",
       "      <td>8.106</td>\n",
       "      <td>False</td>\n",
       "    </tr>\n",
       "    <tr>\n",
       "      <th>1</th>\n",
       "      <td>1</td>\n",
       "      <td>12/02/2010</td>\n",
       "      <td>38.51</td>\n",
       "      <td>2.548</td>\n",
       "      <td>NaN</td>\n",
       "      <td>NaN</td>\n",
       "      <td>NaN</td>\n",
       "      <td>NaN</td>\n",
       "      <td>NaN</td>\n",
       "      <td>211.242170</td>\n",
       "      <td>8.106</td>\n",
       "      <td>True</td>\n",
       "    </tr>\n",
       "    <tr>\n",
       "      <th>2</th>\n",
       "      <td>1</td>\n",
       "      <td>19/02/2010</td>\n",
       "      <td>39.93</td>\n",
       "      <td>2.514</td>\n",
       "      <td>NaN</td>\n",
       "      <td>NaN</td>\n",
       "      <td>NaN</td>\n",
       "      <td>NaN</td>\n",
       "      <td>NaN</td>\n",
       "      <td>211.289143</td>\n",
       "      <td>8.106</td>\n",
       "      <td>False</td>\n",
       "    </tr>\n",
       "    <tr>\n",
       "      <th>3</th>\n",
       "      <td>1</td>\n",
       "      <td>26/02/2010</td>\n",
       "      <td>46.63</td>\n",
       "      <td>2.561</td>\n",
       "      <td>NaN</td>\n",
       "      <td>NaN</td>\n",
       "      <td>NaN</td>\n",
       "      <td>NaN</td>\n",
       "      <td>NaN</td>\n",
       "      <td>211.319643</td>\n",
       "      <td>8.106</td>\n",
       "      <td>False</td>\n",
       "    </tr>\n",
       "    <tr>\n",
       "      <th>4</th>\n",
       "      <td>1</td>\n",
       "      <td>05/03/2010</td>\n",
       "      <td>46.50</td>\n",
       "      <td>2.625</td>\n",
       "      <td>NaN</td>\n",
       "      <td>NaN</td>\n",
       "      <td>NaN</td>\n",
       "      <td>NaN</td>\n",
       "      <td>NaN</td>\n",
       "      <td>211.350143</td>\n",
       "      <td>8.106</td>\n",
       "      <td>False</td>\n",
       "    </tr>\n",
       "  </tbody>\n",
       "</table>\n",
       "</div>"
      ],
      "text/plain": [
       "   Store        Date  Temperature  Fuel_Price  MarkDown1  MarkDown2  \\\n",
       "0      1  05/02/2010        42.31       2.572        NaN        NaN   \n",
       "1      1  12/02/2010        38.51       2.548        NaN        NaN   \n",
       "2      1  19/02/2010        39.93       2.514        NaN        NaN   \n",
       "3      1  26/02/2010        46.63       2.561        NaN        NaN   \n",
       "4      1  05/03/2010        46.50       2.625        NaN        NaN   \n",
       "\n",
       "   MarkDown3  MarkDown4  MarkDown5         CPI  Unemployment  IsHoliday  \n",
       "0        NaN        NaN        NaN  211.096358         8.106      False  \n",
       "1        NaN        NaN        NaN  211.242170         8.106       True  \n",
       "2        NaN        NaN        NaN  211.289143         8.106      False  \n",
       "3        NaN        NaN        NaN  211.319643         8.106      False  \n",
       "4        NaN        NaN        NaN  211.350143         8.106      False  "
      ]
     },
     "execution_count": 37,
     "metadata": {},
     "output_type": "execute_result"
    }
   ],
   "source": [
    "# load the dataset\n",
    "sales_data = pd.read_csv(\"sales-data.csv\")\n",
    "sales_data.head()"
   ]
  },
  {
   "cell_type": "code",
   "execution_count": 13,
   "id": "545d9cbd",
   "metadata": {},
   "outputs": [
    {
     "data": {
      "text/plain": [
       "Store              0\n",
       "Date               0\n",
       "Temperature        0\n",
       "Fuel_Price         0\n",
       "MarkDown1       4158\n",
       "MarkDown2       5269\n",
       "MarkDown3       4577\n",
       "MarkDown4       4726\n",
       "MarkDown5       4140\n",
       "CPI              585\n",
       "Unemployment     585\n",
       "IsHoliday          0\n",
       "dtype: int64"
      ]
     },
     "execution_count": 13,
     "metadata": {},
     "output_type": "execute_result"
    }
   ],
   "source": [
    "# take a look the summary of the missing values \n",
    "sales_data.isna().sum()"
   ]
  },
  {
   "cell_type": "code",
   "execution_count": 38,
   "id": "4c007469",
   "metadata": {},
   "outputs": [],
   "source": [
    "# chop some columns out\n",
    "na_counts = sales_data.drop(columns=['Date', 'Temperature', 'Fuel_Price']).isna().sum()"
   ]
  },
  {
   "cell_type": "code",
   "execution_count": 39,
   "id": "b61e5577",
   "metadata": {
    "scrolled": true
   },
   "outputs": [
    {
     "data": {
      "text/plain": [
       "Store              0\n",
       "MarkDown1       4158\n",
       "MarkDown2       5269\n",
       "MarkDown3       4577\n",
       "MarkDown4       4726\n",
       "MarkDown5       4140\n",
       "CPI              585\n",
       "Unemployment     585\n",
       "IsHoliday          0\n",
       "dtype: int64"
      ]
     },
     "execution_count": 39,
     "metadata": {},
     "output_type": "execute_result"
    }
   ],
   "source": [
    "na_counts"
   ]
  },
  {
   "cell_type": "code",
   "execution_count": 18,
   "id": "a0e60d3b",
   "metadata": {},
   "outputs": [
    {
     "data": {
      "text/plain": [
       "Index(['Store', 'MarkDown1', 'MarkDown2', 'MarkDown3', 'MarkDown4',\n",
       "       'MarkDown5', 'CPI', 'Unemployment', 'IsHoliday'],\n",
       "      dtype='object')"
      ]
     },
     "execution_count": 18,
     "metadata": {},
     "output_type": "execute_result"
    }
   ],
   "source": [
    "na_counts.index"
   ]
  },
  {
   "cell_type": "code",
   "execution_count": 19,
   "id": "ef75d81b",
   "metadata": {
    "scrolled": false
   },
   "outputs": [
    {
     "data": {
      "text/plain": [
       "array([   0, 4158, 5269, 4577, 4726, 4140,  585,  585,    0], dtype=int64)"
      ]
     },
     "execution_count": 19,
     "metadata": {},
     "output_type": "execute_result"
    }
   ],
   "source": [
    "na_counts.values"
   ]
  },
  {
   "cell_type": "markdown",
   "id": "178c05ef",
   "metadata": {},
   "source": [
    "Make a bar plot.\n",
    "\n",
    "`plt.bar(x, height, width=0.8, bottom=None, *, align='center', data=None,\n",
    "    **kwargs,)`"
   ]
  },
  {
   "cell_type": "code",
   "execution_count": 42,
   "id": "ee6f9447",
   "metadata": {},
   "outputs": [
    {
     "data": {
      "image/png": "[encoded data removed]",
      "text/plain": [
       "<Figure size 576x288 with 1 Axes>"
      ]
     },
     "metadata": {
      "needs_background": "light"
     },
     "output_type": "display_data"
    }
   ],
   "source": [
    "# using plt.bar()\n",
    "fig, ax = plt.subplots(figsize=(8 ,4))\n",
    "plt.bar(na_counts.index, na_counts) \n",
    "plt.xticks(rotation=90);\n",
    "\n",
    "# add the count at the top of the bar\n",
    "for i, count in enumerate(na_counts):    \n",
    "    count_str = '{:d}'.format(count)\n",
    "    plt.text(i, count-60, count_str, ha='center', va='top', color='white')"
   ]
  },
  {
   "cell_type": "code",
   "execution_count": 46,
   "id": "19fee38a",
   "metadata": {},
   "outputs": [
    {
     "data": {
      "image/png": "[encoded data removed]",
      "text/plain": [
       "<Figure size 576x288 with 1 Axes>"
      ]
     },
     "metadata": {
      "needs_background": "light"
     },
     "output_type": "display_data"
    }
   ],
   "source": [
    "# using seaborn barplot\n",
    "fig, ax = plt.subplots(figsize=(8, 4))\n",
    "\n",
    "sb.barplot(x=na_counts.index, y=na_counts, ax=ax, \n",
    "           color=sb.color_palette()[1])\n",
    "\n",
    "# add the count at the top the of the bar\n",
    "locs, labels = plt.xticks(rotation=90)\n",
    "for loc, label in zip(locs, labels):\n",
    "    count = na_counts[label.get_text()]\n",
    "    count_str = '{:d}'.format(count)\n",
    "    plt.text(loc, count-60, count_str, ha='center', va='top')  \n"
   ]
  },
  {
   "cell_type": "markdown",
   "id": "8c1340c0",
   "metadata": {},
   "source": [
    "<a id=\"8\"></a>\n",
    "## Pie Charts and Donut Plots\n",
    "[Table of contents](#0)"
   ]
  },
  {
   "cell_type": "markdown",
   "id": "5c0368c7",
   "metadata": {},
   "source": [
    "A pie chart is a common univariate plot type that is used to depict relative frequencies for levels of a categorical variable. Frequencies in a pie chart are depicted as wedges drawn on a circle: the larger the angle or area, the more common the categorical value taken. Use a Pie chart only when the number of categories is less, and you'd like to see the proportion of each category on a chart. \n",
    "\n",
    "Most of time, you will probably prefer a bar chart over either on these two plots. It is actually fairly difficult to get an accurate estimate of relative frequency from a pie or donut plot alone. If there are a log of categories, there are major limitations on how many categories can be plotted in a readable way. A bar chart will usually be more versatile and should be your first choice for exploring qualitative variables. \n",
    "\n",
    "When to use pie or donut charts then: \n",
    "- Showning how the data is broken down into parts\n",
    "- Plotting a small number of slices (two or three so the relative portions are distinct)\n",
    "\n",
    "Usually, you should start planning from the 12 o'clock position and then mark slices clockwise in order of frequency."
   ]
  },
  {
   "cell_type": "code",
   "execution_count": 48,
   "id": "c05a4014",
   "metadata": {
    "scrolled": false
   },
   "outputs": [
    {
     "data": {
      "text/plain": [
       "5    156\n",
       "1    151\n",
       "3    135\n",
       "4    107\n",
       "2    100\n",
       "7     86\n",
       "6     72\n",
       "Name: generation_id, dtype: int64"
      ]
     },
     "execution_count": 48,
     "metadata": {},
     "output_type": "execute_result"
    }
   ],
   "source": [
    "sorted_counts = pokemon.generation_id.value_counts()\n",
    "sorted_counts"
   ]
  },
  {
   "cell_type": "markdown",
   "id": "b28311c3",
   "metadata": {},
   "source": [
    "To follow the guidelines in the bullet points above, I include the \"startangle = 90\" and \"counterclock = False\" arguments to start the first slice at vertically upwards, and will plot the sorted counts in a clockwise fashion. "
   ]
  },
  {
   "cell_type": "code",
   "execution_count": 33,
   "id": "5d083e22",
   "metadata": {},
   "outputs": [
    {
     "data": {
      "image/png": "[encoded data removed]",
      "text/plain": [
       "<Figure size 432x288 with 1 Axes>"
      ]
     },
     "metadata": {},
     "output_type": "display_data"
    }
   ],
   "source": [
    "plt.pie(sorted_counts, labels=sorted_counts.index, \n",
    "        startangle=90, counterclock=False)\n",
    "plt.axis('square');"
   ]
  },
  {
   "cell_type": "markdown",
   "id": "e3647ac2",
   "metadata": {},
   "source": [
    "The axis function call and 'square' argument makes it so that the scaling of the plot is equal on both the x- and y-axes. Without this call, the pie could end up looking oval-shaped, rather than a circle.\n",
    "\n",
    "Did you notice the various arguments in the `plt.pie()` function? Particularly, the `labels=sorted_counts.index` argument represents a list of strings serving as labels for each wedge. Notice that the labels are arranged in the decreasing order of the frequency."
   ]
  },
  {
   "cell_type": "markdown",
   "id": "915cb74f",
   "metadata": {},
   "source": [
    "<a id=\"9\"></a>\n",
    "### Donut Plots\n",
    "[Table of contents](#0)"
   ]
  },
  {
   "cell_type": "markdown",
   "id": "5f0ee25d",
   "metadata": {},
   "source": [
    "A sister plot to the pie chart is the **donut plot**. It's just like a pie chart, except that there's a hole in the center of the plot. Perceptually, there's not much difference between a donut plot and a pie chart, and donut plots should be used with the same guidelines as a pie chart. Aesthetics might be one of the reasons why you would choose one or the other. For instance, you might see statistics reported in the hole of a donut plot to better make use of available space.\n",
    "\n",
    "To create a donut plot, you can add a `wedgeprops` argument to the `pie` function call. By default, the radius of the pie (circle) is 1; setting the wedges' `width` property to less than 1 removes coloring from the center of the circle."
   ]
  },
  {
   "cell_type": "code",
   "execution_count": 49,
   "id": "6cf555bc",
   "metadata": {
    "scrolled": true
   },
   "outputs": [
    {
     "data": {
      "image/png": "[encoded data removed]",
      "text/plain": [
       "<Figure size 432x288 with 1 Axes>"
      ]
     },
     "metadata": {},
     "output_type": "display_data"
    }
   ],
   "source": [
    "# create a donut plot using wedgeprops\n",
    "plt.pie(sorted_counts, labels = sorted_counts.index, startangle = 90,\n",
    "        counterclock = False, wedgeprops = {'width' : 0.4});\n",
    "plt.axis('square');"
   ]
  },
  {
   "cell_type": "markdown",
   "id": "dd796a4e",
   "metadata": {},
   "source": [
    "Refer to the documentation: [Wedge patches](https://matplotlib.org/stable/api/_as_gen/matplotlib.patches.Wedge.html)"
   ]
  },
  {
   "cell_type": "markdown",
   "id": "efa6afd2",
   "metadata": {},
   "source": [
    "<a id=\"10\"></a>\n",
    "## Histogram\n",
    "[Table of contents](#0)"
   ]
  },
  {
   "cell_type": "markdown",
   "id": "02b16a2f",
   "metadata": {},
   "source": [
    "If you have a quantitative variable, then your univariate plot of choice will probably be the histogram. Similar to a bar chart you have feature values on the x-axis and counts on the y-axis. However, due to the numeric nature of the data, bars in a histogram do not indicate counts on single values, but instead on value ranges called bins. Normally bins include values on their left end and exclude values on their right end. So the data point with the value at the edge of a bin will go into the bin on its right.  \n",
    "\n",
    "The size of the bins can have a major effect on how you interpret the data. If your bin size is too large, you may end up losing a lot of information about the overall distribution of data. And a too small bin size can introduce noise that can distract from the main trends in your data. \n",
    "\n",
    "When creating a histogram, it's a good idea to play around with different settings for the bin sizes and boundary points to achieve a good understanding of the plotted variable."
   ]
  },
  {
   "cell_type": "code",
   "execution_count": 50,
   "id": "3e02fea9",
   "metadata": {
    "scrolled": true
   },
   "outputs": [
    {
     "data": {
      "image/png": "[encoded data removed]",
      "text/plain": [
       "<Figure size 432x288 with 1 Axes>"
      ]
     },
     "metadata": {
      "needs_background": "light"
     },
     "output_type": "display_data"
    }
   ],
   "source": [
    "# create a histogram using plt.hist()\n",
    "# y-axis indicates counts on the bin range\n",
    "plt.hist(data=pokemon, x='speed');"
   ]
  },
  {
   "cell_type": "markdown",
   "id": "8c8e6f62",
   "metadata": {},
   "source": [
    "There isn't a lot of details here. By default the bin size is 10, usually is too few. In addition, the bin boundaries are not particularly aligned with tick marks making interpretation trickier. To solve this, we want to use the \"bins\" parameter of the `hist` function. "
   ]
  },
  {
   "cell_type": "code",
   "execution_count": 42,
   "id": "81a32df9",
   "metadata": {
    "scrolled": true
   },
   "outputs": [
    {
     "data": {
      "image/png": "[encoded data removed]",
      "text/plain": [
       "<Figure size 432x288 with 1 Axes>"
      ]
     },
     "metadata": {
      "needs_background": "light"
     },
     "output_type": "display_data"
    }
   ],
   "source": [
    "# specify bin size by a constant\n",
    "plt.hist(data=pokemon, x='speed', bins=20);"
   ]
  },
  {
   "cell_type": "markdown",
   "id": "c2ebbc2c",
   "metadata": {},
   "source": [
    "We have more detailed look at the data, but this still have the problem of awkward bin boundaries. You can see the bin edges and counts return by hist when the semicolon is removed. The fact that bin edges are non-integer and the data values are integer will mean that some bins cover more integer values than others. Instead, the better way of using the \"bins\" parameter is to specify the bin boundaries explicitly. "
   ]
  },
  {
   "cell_type": "code",
   "execution_count": 51,
   "id": "64bca053",
   "metadata": {
    "scrolled": true
   },
   "outputs": [
    {
     "data": {
      "text/plain": [
       "(array([  6.,  25.,  21.,  72.,  66.,  97.,  53., 106.,  64.,  64.,  69.,\n",
       "         46.,  52.,  29.,  18.,   8.,   5.,   1.,   4.,   1.]),\n",
       " array([  5.  ,  12.75,  20.5 ,  28.25,  36.  ,  43.75,  51.5 ,  59.25,\n",
       "         67.  ,  74.75,  82.5 ,  90.25,  98.  , 105.75, 113.5 , 121.25,\n",
       "        129.  , 136.75, 144.5 , 152.25, 160.  ]),\n",
       " <BarContainer object of 20 artists>)"
      ]
     },
     "execution_count": 51,
     "metadata": {},
     "output_type": "execute_result"
    },
    {
     "data": {
      "image/png": "[encoded data removed]",
      "text/plain": [
       "<Figure size 432x288 with 1 Axes>"
      ]
     },
     "metadata": {
      "needs_background": "light"
     },
     "output_type": "display_data"
    }
   ],
   "source": [
    "plt.hist(data=pokemon, x='speed', bins=20)"
   ]
  },
  {
   "cell_type": "markdown",
   "id": "2aee1082",
   "metadata": {},
   "source": [
    "Here I will make use Numpy's `arange` function to create bins of size 5. The first argument is the minimum value, while the second argument will be the maximum value. The third argument gives the step size for the bins. I will add plus 5 to the second argument. This is because the values generated by `arange` will not include the maximum value. By adding 5, this means that all values should be represented in the chart. When I add bins to the \"bins\" parameter, this creates a view of the data that implies the data is approximately uni-model, save for a bit of a dip in the 75-85 range. "
   ]
  },
  {
   "cell_type": "code",
   "execution_count": 43,
   "id": "40d03748",
   "metadata": {
    "scrolled": true
   },
   "outputs": [
    {
     "data": {
      "image/png": "[encoded data removed]",
      "text/plain": [
       "<Figure size 432x288 with 1 Axes>"
      ]
     },
     "metadata": {
      "needs_background": "light"
     },
     "output_type": "display_data"
    }
   ],
   "source": [
    "# specify bin boundaries explicitly\n",
    "# use numpy arange() to create bins of step-size 5 \n",
    "bins = np.arange(0, pokemon.speed.max()+5, 5)  # it does not include max value, thus max()+5\n",
    "plt.hist(data=pokemon, x='speed', bins=bins);"
   ]
  },
  {
   "cell_type": "markdown",
   "id": "920e3b23",
   "metadata": {},
   "source": [
    "What is we try a very small bin size, like 1. On the one hand, this bin size is perhaps a bit too small, introducing a lot of noise in the plot. On the other hand, this does a good job of showing that Pokemon's speed statistics are usually divisible by 5."
   ]
  },
  {
   "cell_type": "code",
   "execution_count": 51,
   "id": "68bbb3b2",
   "metadata": {
    "scrolled": true
   },
   "outputs": [
    {
     "data": {
      "image/png": "[encoded data removed]",
      "text/plain": [
       "<Figure size 432x288 with 1 Axes>"
      ]
     },
     "metadata": {
      "needs_background": "light"
     },
     "output_type": "display_data"
    }
   ],
   "source": [
    "# specify extremely small bin size\n",
    "# use numpy arange() to create bins of size 1 \n",
    "bins = np.arange(0, pokemon.speed.max()+1, 1)\n",
    "plt.hist(data=pokemon, x='speed', bins=bins);"
   ]
  },
  {
   "cell_type": "markdown",
   "id": "3d452f38",
   "metadata": {},
   "source": [
    "### Use seaborn for histograms"
   ]
  },
  {
   "cell_type": "markdown",
   "id": "a81539bc",
   "metadata": {},
   "source": [
    "- Create a histgram using seaborn `displot`, or `histplot`.\n",
    "- It only takes a mandatory Series argument\n",
    "- The default bin size is larger than 10 in matplotlib"
   ]
  },
  {
   "cell_type": "code",
   "execution_count": 68,
   "id": "957cabe8",
   "metadata": {},
   "outputs": [
    {
     "data": {
      "image/png": "[encoded data removed]",
      "text/plain": [
       "<Figure size 360x360 with 1 Axes>"
      ]
     },
     "metadata": {
      "needs_background": "light"
     },
     "output_type": "display_data"
    }
   ],
   "source": [
    "# use seaborn displot()\n",
    "# histogram is the default kind in displot function\n",
    "bin_edges = np.arange(0, pokemon['speed'].max()+5, 5)\n",
    "sb.displot(pokemon.speed, bins=bin_edges); "
   ]
  },
  {
   "cell_type": "code",
   "execution_count": 70,
   "id": "31f71052",
   "metadata": {
    "scrolled": true
   },
   "outputs": [
    {
     "data": {
      "image/png": "[encoded data removed]",
      "text/plain": [
       "<Figure size 432x288 with 1 Axes>"
      ]
     },
     "metadata": {
      "needs_background": "light"
     },
     "output_type": "display_data"
    }
   ],
   "source": [
    "# use seaborn histplot()\n",
    "bin_edges = np.arange(0, pokemon['speed'].max()+5, 5)\n",
    "sb.histplot(pokemon.speed, bins=bin_edges);"
   ]
  },
  {
   "cell_type": "markdown",
   "id": "56a6e969",
   "metadata": {},
   "source": [
    "### Plot two histograms side-by-side"
   ]
  },
  {
   "cell_type": "code",
   "execution_count": 72,
   "id": "1491c020",
   "metadata": {},
   "outputs": [
    {
     "data": {
      "image/png": "[encoded data removed]",
      "text/plain": [
       "<Figure size 1440x360 with 2 Axes>"
      ]
     },
     "metadata": {
      "needs_background": "light"
     },
     "output_type": "display_data"
    }
   ],
   "source": [
    "# Resize the chart, and have two plots side-by-side\n",
    "# Set a larger figure size for subplots\n",
    "plt.figure(figsize = [20, 5])\n",
    "\n",
    "# histogram on left, example of too-large bin size\n",
    "plt.subplot(1, 2, 1) # 1 row, 2 cols, subplot 1\n",
    "bins = np.arange(0, pokemon['speed'].max()+4, 4)\n",
    "plt.hist(data=pokemon, x='speed', bins=bins);\n",
    "\n",
    "# histogram on right, example of too-small bin size\n",
    "plt.subplot(1, 2, 2) # 1 row, 2 cols, subplot 2\n",
    "bins = np.arange(0, pokemon['speed'].max()+1/4, 1/4)\n",
    "plt.hist(data=pokemon, x='speed', bins=bins);"
   ]
  },
  {
   "cell_type": "markdown",
   "id": "ab42a6b5",
   "metadata": {},
   "source": [
    "### Figure and Axes \n",
    "At this point, you've seen and had some practice with some basic plotting functions using matplotlib and seaborn. The previous page introduced something a little bit new: creating two side-by-side plots through the use of matplotlib's subplot() function. If you have any questions about how that or the figure() function worked, then read on. This page will discuss the basic structure of visualizations using matplotlib and how subplots work in that structure.\n",
    "\n",
    "The base of visualization in matplotlib is a [`Figure`](https://matplotlib.org/3.3.4/api/_as_gen/matplotlib.figure.Figure.html) object. Contained within each `Figure` will be one or more [`Axes`](https://matplotlib.org/stable/api/axes_api.html) objects, each `Axes` object containing a number of other elements that represent each plot. In the earliest examples, these objects have been created implicitly. For example:\n",
    "> `plt.hist(data=pokemon, x='speed');`\n",
    "\n",
    "Since we don't have a `Figure` area to plot inside, Python first creates a `Figure` object. And since the Figure doesn't start with any `Axes` to draw the histogram onto, an `Axes` object is created inside the Figure. Finally, the histogram is drawn within that `Axes`."
   ]
  },
  {
   "attachments": {
    "image.png": {
     "image/png": "[encoded data removed]"
    }
   },
   "cell_type": "markdown",
   "id": "07c86c1d",
   "metadata": {},
   "source": [
    "![image.png](attachment:image.png) [from Udacity]"
   ]
  },
  {
   "cell_type": "markdown",
   "id": "df265721",
   "metadata": {},
   "source": [
    "This hierarchy of objects is useful to know about so that we can take more control over the layout and aesthetics of our plots. We could have created the histogram is to explicitly set up the `Figure` and `Axes` like this:"
   ]
  },
  {
   "cell_type": "code",
   "execution_count": 73,
   "id": "5d756584",
   "metadata": {},
   "outputs": [
    {
     "data": {
      "image/png": "[encoded data removed]",
      "text/plain": [
       "<Figure size 432x288 with 1 Axes>"
      ]
     },
     "metadata": {
      "needs_background": "light"
     },
     "output_type": "display_data"
    }
   ],
   "source": [
    "# Create a new figure\n",
    "fig = plt.figure()\n",
    "ax = fig.add_axes([.125, .125, .775, .755])\n",
    "ax.hist(data=pokemon, x='speed');"
   ]
  },
  {
   "cell_type": "markdown",
   "id": "b17b121d",
   "metadata": {},
   "source": [
    "`figure()` creates a new Figure object, a reference to which has been stored in the variable fig. One of the Figure methods is `.add_axes()`, which creates a new Axes object in the Figure. The method requires one list as argument specifying the dimensions of the Axes.\n",
    "\n",
    "The argument of `add_axes` represents the dimensions [left, bottom, width, height] of the new axes. The first two elements of the list indicate the position of the lower-left hand corner of the `Axes`, in this case one quarter of the way from the lower-left corner of the `Figure` and the last two elements specifying the `Axes` width and height respectively. All quantities are in fractions of `figure` width and height.\n"
   ]
  },
  {
   "cell_type": "markdown",
   "id": "9d53b5d9",
   "metadata": {},
   "source": [
    "To use `Axes` objects with `seaborn`, `seaborn` functions usually have an \"ax\" parameter to specify upon which `Axes` a plot will be drawn."
   ]
  },
  {
   "cell_type": "code",
   "execution_count": 75,
   "id": "d51bfa63",
   "metadata": {
    "scrolled": true
   },
   "outputs": [
    {
     "data": {
      "image/png": "[encoded data removed]",
      "text/plain": [
       "<Figure size 432x288 with 1 Axes>"
      ]
     },
     "metadata": {
      "needs_background": "light"
     },
     "output_type": "display_data"
    }
   ],
   "source": [
    "fig = plt.figure()\n",
    "ax = fig.add_axes([.125, .125, .775, .755])\n",
    "base_color = sb.color_palette()[0]\n",
    "sb.countplot(data=pokemon, x='generation_id', color=base_color, \n",
    "             ax=ax);"
   ]
  },
  {
   "cell_type": "markdown",
   "id": "6b969a1f",
   "metadata": {},
   "source": [
    "`plt.subplot(1, 2, 1)` creates a new `Axes` in our `Figure`, its size determined by the `subplot()` function arguments. The first two arguments says to divide the figure into one row and two columns, and the third argument says to create a new `Axes` in the first slot. Then, `plt.subplot(1, 2, 2)` creates a new Axes in the second subplot slot, and sets that one as the current `Axes`."
   ]
  },
  {
   "cell_type": "code",
   "execution_count": 77,
   "id": "2bd3339e",
   "metadata": {},
   "outputs": [
    {
     "data": {
      "image/png": "[encoded data removed]",
      "text/plain": [
       "<Figure size 1440x360 with 1 Axes>"
      ]
     },
     "metadata": {
      "needs_background": "light"
     },
     "output_type": "display_data"
    }
   ],
   "source": [
    "# remove the the second subplot setting\n",
    "# the plots are now overlapping\n",
    "plt.figure(figsize = [20, 5])\n",
    "\n",
    "# histogram on left, example of too-large bin size\n",
    "plt.subplot(1, 2, 1) # 1 row, 2 cols, subplot 1\n",
    "bins = np.arange(0, pokemon['speed'].max()+4, 4)\n",
    "plt.hist(data=pokemon, x='speed', bins=bins);\n",
    "\n",
    "# histogram on right, example of too-small bin size\n",
    "# plt.subplot(1, 2, 2) # 1 row, 2 cols, subplot 2\n",
    "bins = np.arange(0, pokemon['speed'].max()+1/4, 1/4)\n",
    "plt.hist(data=pokemon, x='speed', bins=bins);"
   ]
  },
  {
   "cell_type": "markdown",
   "id": "45d3566c",
   "metadata": {},
   "source": [
    "Even if we don't assign any variable to return the function's output, Python will still implicitly know that further plotting calls that need a Figure will refer to that Figure as the active one."
   ]
  },
  {
   "cell_type": "markdown",
   "id": "085e0465",
   "metadata": {},
   "source": [
    "### Demonstrate `plt.sca()` and `plt.text()`"
   ]
  },
  {
   "cell_type": "markdown",
   "id": "c81f9b4d",
   "metadata": {},
   "source": [
    "If you don't assign Axes objects as they're created, you can retrieve the current Axes using [`ax=plt.gca()`](https://matplotlib.org/stable/api/_as_gen/matplotlib.pyplot.gca.html) (get current axis), or you can get a list of all Axes in a Figure fig by using [`axes=fig.get_axes()`](https://matplotlib.org/3.3.4/api/_as_gen/matplotlib.figure.Figure.html). As for creating subplots, you can use [`fig.add_subplot()`](https://matplotlib.org/3.3.4/api/_as_gen/matplotlib.figure.Figure.html) in the same way as `plt.subplot()` above. If you already know that you're going to be creating a bunch of subplots, you can use the `plt.subplots()` function"
   ]
  },
  {
   "cell_type": "code",
   "execution_count": 83,
   "id": "6a14c264",
   "metadata": {},
   "outputs": [
    {
     "data": {
      "image/png": "[encoded data removed]",
      "text/plain": [
       "<Figure size 432x288 with 12 Axes>"
      ]
     },
     "metadata": {
      "needs_background": "light"
     },
     "output_type": "display_data"
    }
   ],
   "source": [
    "# grid of 3x4 subplots\n",
    "fig, axes = plt.subplots(3, 4)\n",
    "\n",
    "# print('3 x 4 array:', axes)\n",
    "axes = axes.flatten() # reshape from the 3x4 array into a 12-element vector\n",
    "# print('Now is a vector:', axes)\n",
    "\n",
    "for i in range(12):\n",
    "    plt.sca(axes[i]) # sca: set current axis\n",
    "    plt.text(0.5, 0.5, i+1) \n",
    "         # print conventional subplot index number to \n",
    "         # the middle of Axes\n",
    "    "
   ]
  },
  {
   "cell_type": "code",
   "execution_count": null,
   "id": "ef6197d4",
   "metadata": {},
   "outputs": [],
   "source": []
  },
  {
   "cell_type": "code",
   "execution_count": null,
   "id": "eaad80ca",
   "metadata": {},
   "outputs": [],
   "source": []
  }
 ],
 "metadata": {
  "kernelspec": {
   "display_name": "Python 3",
   "language": "python",
   "name": "python3"
  },
  "language_info": {
   "codemirror_mode": {
    "name": "ipython",
    "version": 3
   },
   "file_extension": ".py",
   "mimetype": "text/x-python",
   "name": "python",
   "nbconvert_exporter": "python",
   "pygments_lexer": "ipython3",
   "version": "3.8.10"
  }
 },
 "nbformat": 4,
 "nbformat_minor": 5
}
